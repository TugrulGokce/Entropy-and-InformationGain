{
 "cells": [
  {
   "cell_type": "code",
   "execution_count": 1,
   "id": "e5842beb",
   "metadata": {},
   "outputs": [
    {
     "data": {
      "text/html": [
       "<div>\n",
       "<style scoped>\n",
       "    .dataframe tbody tr th:only-of-type {\n",
       "        vertical-align: middle;\n",
       "    }\n",
       "\n",
       "    .dataframe tbody tr th {\n",
       "        vertical-align: top;\n",
       "    }\n",
       "\n",
       "    .dataframe thead th {\n",
       "        text-align: right;\n",
       "    }\n",
       "</style>\n",
       "<table border=\"1\" class=\"dataframe\">\n",
       "  <thead>\n",
       "    <tr style=\"text-align: right;\">\n",
       "      <th></th>\n",
       "      <th>gender</th>\n",
       "      <th>NationalITy</th>\n",
       "      <th>PlaceofBirth</th>\n",
       "      <th>StageID</th>\n",
       "      <th>SectionID</th>\n",
       "      <th>Topic</th>\n",
       "      <th>Semester</th>\n",
       "      <th>Relation</th>\n",
       "      <th>raisedhands</th>\n",
       "      <th>AnnouncementsView</th>\n",
       "      <th>Discussion</th>\n",
       "      <th>ParentAnsweringSurvey</th>\n",
       "      <th>ParentschoolSatisfaction</th>\n",
       "      <th>StudentAbsenceDays</th>\n",
       "      <th>Class</th>\n",
       "    </tr>\n",
       "  </thead>\n",
       "  <tbody>\n",
       "    <tr>\n",
       "      <th>1</th>\n",
       "      <td>M</td>\n",
       "      <td>KW</td>\n",
       "      <td>KuwaIT</td>\n",
       "      <td>lowerlevel</td>\n",
       "      <td>A</td>\n",
       "      <td>IT</td>\n",
       "      <td>F</td>\n",
       "      <td>Father</td>\n",
       "      <td>20</td>\n",
       "      <td>3</td>\n",
       "      <td>25</td>\n",
       "      <td>Yes</td>\n",
       "      <td>Good</td>\n",
       "      <td>Under-7</td>\n",
       "      <td>M</td>\n",
       "    </tr>\n",
       "    <tr>\n",
       "      <th>4</th>\n",
       "      <td>M</td>\n",
       "      <td>KW</td>\n",
       "      <td>KuwaIT</td>\n",
       "      <td>lowerlevel</td>\n",
       "      <td>A</td>\n",
       "      <td>IT</td>\n",
       "      <td>F</td>\n",
       "      <td>Father</td>\n",
       "      <td>40</td>\n",
       "      <td>12</td>\n",
       "      <td>50</td>\n",
       "      <td>No</td>\n",
       "      <td>Bad</td>\n",
       "      <td>Above-7</td>\n",
       "      <td>M</td>\n",
       "    </tr>\n",
       "    <tr>\n",
       "      <th>7</th>\n",
       "      <td>M</td>\n",
       "      <td>KW</td>\n",
       "      <td>KuwaIT</td>\n",
       "      <td>MiddleSchool</td>\n",
       "      <td>A</td>\n",
       "      <td>Math</td>\n",
       "      <td>F</td>\n",
       "      <td>Father</td>\n",
       "      <td>50</td>\n",
       "      <td>15</td>\n",
       "      <td>22</td>\n",
       "      <td>Yes</td>\n",
       "      <td>Good</td>\n",
       "      <td>Under-7</td>\n",
       "      <td>M</td>\n",
       "    </tr>\n",
       "    <tr>\n",
       "      <th>10</th>\n",
       "      <td>M</td>\n",
       "      <td>KW</td>\n",
       "      <td>KuwaIT</td>\n",
       "      <td>MiddleSchool</td>\n",
       "      <td>A</td>\n",
       "      <td>Math</td>\n",
       "      <td>F</td>\n",
       "      <td>Father</td>\n",
       "      <td>50</td>\n",
       "      <td>30</td>\n",
       "      <td>80</td>\n",
       "      <td>Yes</td>\n",
       "      <td>Good</td>\n",
       "      <td>Under-7</td>\n",
       "      <td>H</td>\n",
       "    </tr>\n",
       "    <tr>\n",
       "      <th>13</th>\n",
       "      <td>M</td>\n",
       "      <td>lebanon</td>\n",
       "      <td>lebanon</td>\n",
       "      <td>MiddleSchool</td>\n",
       "      <td>A</td>\n",
       "      <td>Math</td>\n",
       "      <td>F</td>\n",
       "      <td>Father</td>\n",
       "      <td>20</td>\n",
       "      <td>12</td>\n",
       "      <td>19</td>\n",
       "      <td>No</td>\n",
       "      <td>Bad</td>\n",
       "      <td>Above-7</td>\n",
       "      <td>L</td>\n",
       "    </tr>\n",
       "    <tr>\n",
       "      <th>...</th>\n",
       "      <td>...</td>\n",
       "      <td>...</td>\n",
       "      <td>...</td>\n",
       "      <td>...</td>\n",
       "      <td>...</td>\n",
       "      <td>...</td>\n",
       "      <td>...</td>\n",
       "      <td>...</td>\n",
       "      <td>...</td>\n",
       "      <td>...</td>\n",
       "      <td>...</td>\n",
       "      <td>...</td>\n",
       "      <td>...</td>\n",
       "      <td>...</td>\n",
       "      <td>...</td>\n",
       "    </tr>\n",
       "    <tr>\n",
       "      <th>466</th>\n",
       "      <td>F</td>\n",
       "      <td>Jordan</td>\n",
       "      <td>Jordan</td>\n",
       "      <td>MiddleSchool</td>\n",
       "      <td>A</td>\n",
       "      <td>Geology</td>\n",
       "      <td>F</td>\n",
       "      <td>Mum</td>\n",
       "      <td>80</td>\n",
       "      <td>64</td>\n",
       "      <td>58</td>\n",
       "      <td>Yes</td>\n",
       "      <td>Good</td>\n",
       "      <td>Under-7</td>\n",
       "      <td>H</td>\n",
       "    </tr>\n",
       "    <tr>\n",
       "      <th>469</th>\n",
       "      <td>F</td>\n",
       "      <td>Jordan</td>\n",
       "      <td>Jordan</td>\n",
       "      <td>MiddleSchool</td>\n",
       "      <td>A</td>\n",
       "      <td>Chemistry</td>\n",
       "      <td>S</td>\n",
       "      <td>Father</td>\n",
       "      <td>9</td>\n",
       "      <td>15</td>\n",
       "      <td>85</td>\n",
       "      <td>No</td>\n",
       "      <td>Bad</td>\n",
       "      <td>Above-7</td>\n",
       "      <td>L</td>\n",
       "    </tr>\n",
       "    <tr>\n",
       "      <th>472</th>\n",
       "      <td>M</td>\n",
       "      <td>Palestine</td>\n",
       "      <td>Palestine</td>\n",
       "      <td>MiddleSchool</td>\n",
       "      <td>A</td>\n",
       "      <td>Geology</td>\n",
       "      <td>F</td>\n",
       "      <td>Father</td>\n",
       "      <td>80</td>\n",
       "      <td>74</td>\n",
       "      <td>68</td>\n",
       "      <td>Yes</td>\n",
       "      <td>Good</td>\n",
       "      <td>Under-7</td>\n",
       "      <td>M</td>\n",
       "    </tr>\n",
       "    <tr>\n",
       "      <th>475</th>\n",
       "      <td>F</td>\n",
       "      <td>Jordan</td>\n",
       "      <td>Jordan</td>\n",
       "      <td>MiddleSchool</td>\n",
       "      <td>A</td>\n",
       "      <td>Chemistry</td>\n",
       "      <td>S</td>\n",
       "      <td>Father</td>\n",
       "      <td>5</td>\n",
       "      <td>5</td>\n",
       "      <td>8</td>\n",
       "      <td>No</td>\n",
       "      <td>Bad</td>\n",
       "      <td>Above-7</td>\n",
       "      <td>L</td>\n",
       "    </tr>\n",
       "    <tr>\n",
       "      <th>478</th>\n",
       "      <td>F</td>\n",
       "      <td>Jordan</td>\n",
       "      <td>Jordan</td>\n",
       "      <td>MiddleSchool</td>\n",
       "      <td>A</td>\n",
       "      <td>History</td>\n",
       "      <td>F</td>\n",
       "      <td>Father</td>\n",
       "      <td>30</td>\n",
       "      <td>14</td>\n",
       "      <td>57</td>\n",
       "      <td>No</td>\n",
       "      <td>Bad</td>\n",
       "      <td>Above-7</td>\n",
       "      <td>L</td>\n",
       "    </tr>\n",
       "  </tbody>\n",
       "</table>\n",
       "<p>160 rows × 15 columns</p>\n",
       "</div>"
      ],
      "text/plain": [
       "    gender NationalITy PlaceofBirth       StageID SectionID      Topic  \\\n",
       "1        M          KW       KuwaIT    lowerlevel         A         IT   \n",
       "4        M          KW       KuwaIT    lowerlevel         A         IT   \n",
       "7        M          KW       KuwaIT  MiddleSchool         A       Math   \n",
       "10       M          KW       KuwaIT  MiddleSchool         A       Math   \n",
       "13       M     lebanon      lebanon  MiddleSchool         A       Math   \n",
       "..     ...         ...          ...           ...       ...        ...   \n",
       "466      F      Jordan       Jordan  MiddleSchool         A    Geology   \n",
       "469      F      Jordan       Jordan  MiddleSchool         A  Chemistry   \n",
       "472      M   Palestine    Palestine  MiddleSchool         A    Geology   \n",
       "475      F      Jordan       Jordan  MiddleSchool         A  Chemistry   \n",
       "478      F      Jordan       Jordan  MiddleSchool         A    History   \n",
       "\n",
       "    Semester Relation  raisedhands  AnnouncementsView  Discussion  \\\n",
       "1          F   Father           20                  3          25   \n",
       "4          F   Father           40                 12          50   \n",
       "7          F   Father           50                 15          22   \n",
       "10         F   Father           50                 30          80   \n",
       "13         F   Father           20                 12          19   \n",
       "..       ...      ...          ...                ...         ...   \n",
       "466        F      Mum           80                 64          58   \n",
       "469        S   Father            9                 15          85   \n",
       "472        F   Father           80                 74          68   \n",
       "475        S   Father            5                  5           8   \n",
       "478        F   Father           30                 14          57   \n",
       "\n",
       "    ParentAnsweringSurvey ParentschoolSatisfaction StudentAbsenceDays Class  \n",
       "1                     Yes                     Good            Under-7     M  \n",
       "4                      No                      Bad            Above-7     M  \n",
       "7                     Yes                     Good            Under-7     M  \n",
       "10                    Yes                     Good            Under-7     H  \n",
       "13                     No                      Bad            Above-7     L  \n",
       "..                    ...                      ...                ...   ...  \n",
       "466                   Yes                     Good            Under-7     H  \n",
       "469                    No                      Bad            Above-7     L  \n",
       "472                   Yes                     Good            Under-7     M  \n",
       "475                    No                      Bad            Above-7     L  \n",
       "478                    No                      Bad            Above-7     L  \n",
       "\n",
       "[160 rows x 15 columns]"
      ]
     },
     "execution_count": 1,
     "metadata": {},
     "output_type": "execute_result"
    }
   ],
   "source": [
    "import pandas as pd\n",
    "import numpy as np\n",
    "\n",
    "edu_data_read = pd.read_excel(\"edu_data.xlsx\")\n",
    "\n",
    "## 1-4-7-10... sekilde hangi satirla ilgilendigim\n",
    "edu_data = edu_data_read.iloc[1::3]\n",
    "edu_data"
   ]
  },
  {
   "cell_type": "code",
   "execution_count": 2,
   "id": "a1df92f9",
   "metadata": {},
   "outputs": [],
   "source": [
    "row = edu_data.shape[0] \n",
    "column = edu_data.shape[1]"
   ]
  },
  {
   "cell_type": "code",
   "execution_count": 3,
   "id": "c5322fcb",
   "metadata": {},
   "outputs": [],
   "source": [
    "edu_data.index = pd.RangeIndex(start = 0,stop = 160, step= 1)\n",
    "## edu_data\n",
    "edu_data_copy = edu_data.copy()"
   ]
  },
  {
   "cell_type": "code",
   "execution_count": 4,
   "id": "ea1ac396",
   "metadata": {},
   "outputs": [
    {
     "name": "stdout",
     "output_type": "stream",
     "text": [
      "<class 'pandas.core.frame.DataFrame'>\n",
      "RangeIndex: 160 entries, 0 to 159\n",
      "Data columns (total 15 columns):\n",
      " #   Column                    Non-Null Count  Dtype \n",
      "---  ------                    --------------  ----- \n",
      " 0   gender                    160 non-null    object\n",
      " 1   NationalITy               160 non-null    object\n",
      " 2   PlaceofBirth              160 non-null    object\n",
      " 3   StageID                   160 non-null    object\n",
      " 4   SectionID                 160 non-null    object\n",
      " 5   Topic                     160 non-null    object\n",
      " 6   Semester                  160 non-null    object\n",
      " 7   Relation                  160 non-null    object\n",
      " 8   raisedhands               160 non-null    int64 \n",
      " 9   AnnouncementsView         160 non-null    int64 \n",
      " 10  Discussion                160 non-null    int64 \n",
      " 11  ParentAnsweringSurvey     160 non-null    object\n",
      " 12  ParentschoolSatisfaction  160 non-null    object\n",
      " 13  StudentAbsenceDays        160 non-null    object\n",
      " 14  Class                     160 non-null    object\n",
      "dtypes: int64(3), object(12)\n",
      "memory usage: 18.9+ KB\n"
     ]
    }
   ],
   "source": [
    "edu_data_copy.info()"
   ]
  },
  {
   "cell_type": "markdown",
   "id": "b0270ce3",
   "metadata": {},
   "source": [
    "#                                                 Madde 1 "
   ]
  },
  {
   "cell_type": "code",
   "execution_count": 5,
   "id": "a7d16990",
   "metadata": {},
   "outputs": [],
   "source": [
    "pd.options.mode.chained_assignment = None"
   ]
  },
  {
   "cell_type": "code",
   "execution_count": 6,
   "id": "0ebd57f0",
   "metadata": {},
   "outputs": [],
   "source": [
    "def verileri_at(dataframe, column_name):\n",
    "    \"\"\"\n",
    "    Summary :\n",
    "         Verinin merkezinden iki standart sapma uzaklıktaki verileri nan olarak ata.\n",
    "         Daha sonra nan olarak atanan verileri mod ile doldur.\n",
    "    \n",
    "    Args:\n",
    "        column_name (str): \n",
    "            dataframe'in kolonunun adı\n",
    "        dataframe (DataFrame):\n",
    "            verinin merkezinden iki standart sapma uzağındaki atılacak verilerin dataframe'i\n",
    "            \n",
    "    Returns:\n",
    "        data.frame --> edu_data\n",
    "    \"\"\"\n",
    "    \n",
    "    # 𝜇 kolonun ortalaması \n",
    "    kolonun_ortalaması = int(dataframe[column_name].mean())\n",
    "    # 𝜎 kolonun standart sapması\n",
    "    kolonun_std = int(dataframe[column_name].std()) \n",
    "    \n",
    "    # merkezden iki standart sapma ilerisinde ki verinin sayısal değeri\n",
    "    mu_arti_ikisigma = (int(kolonun_ortalaması) + 2 * (int(kolonun_std)))\n",
    "    \n",
    "    # merkezden iki standart sapma gerisinde ki verinin sayısal değeri\n",
    "    mu_eksi_ikisigma = (int(kolonun_ortalaması) - 2 * (int(kolonun_std)))\n",
    "    \n",
    "    # merkezden iki standart sapma ileriside ki verinin sayısal değerden büyük olanlara nan ata\n",
    "    dataframe.loc[dataframe[column_name] > mu_arti_ikisigma, column_name] = np.nan\n",
    "    \n",
    "    # merkezden iki standart sapma gerisinde ki verinin sayısal değerden kücük olanlara nan ata\n",
    "    dataframe.loc[dataframe[column_name] < mu_eksi_ikisigma, column_name] = np.nan\n",
    "    \n",
    "    # ilgili kolonun en cok tekrar eden degerini bul\n",
    "    mode = dataframe.loc[:, [column_name]].mode()\n",
    "    \n",
    "    # na veri iceren kolona yukarıda ki degiskende bulunan mod degerini ata\n",
    "    dataframe.loc[dataframe[column_name].isna(), [column_name]] = mode.values\n",
    "    \n",
    "    return dataframe\n",
    "\n",
    "\n",
    "# veri setinden sadece numeric veriler iceren kolonları al\n",
    "numeric_veriler = [x for x in edu_data.columns if (edu_data[x].dtypes == \"int64\") or \n",
    "                                                 (edu_data[x].dtypes == \"float64\")]\n",
    "\n",
    "# numeric veriler iceren kolonların hepsi icin metodu uygula\n",
    "for i in edu_data[numeric_veriler].columns:\n",
    "    verileri_at(edu_data, edu_data[i].name)"
   ]
  },
  {
   "cell_type": "code",
   "execution_count": 7,
   "id": "2dbb9f53",
   "metadata": {},
   "outputs": [],
   "source": [
    "numeric_veriler = [x for x in edu_data.columns if (edu_data[x].dtypes == \"int64\") or \n",
    "                                                 (edu_data[x].dtypes == \"float64\")]\n",
    "arrayy = []\n",
    "for i in edu_data[numeric_veriler].columns:\n",
    "    arrayy.append(edu_data.loc[:,  i].mode().values)\n",
    "\n",
    "mode = pd.DataFrame(arrayy)\n",
    "\n",
    "veri_ozeti = pd.DataFrame([edu_data.describe().T.loc[:, \"mean\"], edu_data.describe().T.loc[:, \"std\"]]).T\n",
    "veri_ozeti.insert(2, \"mod\", mode)"
   ]
  },
  {
   "cell_type": "code",
   "execution_count": 8,
   "id": "d46bb786",
   "metadata": {},
   "outputs": [
    {
     "data": {
      "text/html": [
       "<div>\n",
       "<style scoped>\n",
       "    .dataframe tbody tr th:only-of-type {\n",
       "        vertical-align: middle;\n",
       "    }\n",
       "\n",
       "    .dataframe tbody tr th {\n",
       "        vertical-align: top;\n",
       "    }\n",
       "\n",
       "    .dataframe thead th {\n",
       "        text-align: right;\n",
       "    }\n",
       "</style>\n",
       "<table border=\"1\" class=\"dataframe\">\n",
       "  <thead>\n",
       "    <tr style=\"text-align: right;\">\n",
       "      <th></th>\n",
       "      <th>mean</th>\n",
       "      <th>std</th>\n",
       "      <th>mod</th>\n",
       "    </tr>\n",
       "  </thead>\n",
       "  <tbody>\n",
       "    <tr>\n",
       "      <th>raisedhands</th>\n",
       "      <td>45.13125</td>\n",
       "      <td>31.255112</td>\n",
       "      <td>80.0</td>\n",
       "    </tr>\n",
       "    <tr>\n",
       "      <th>AnnouncementsView</th>\n",
       "      <td>36.74375</td>\n",
       "      <td>25.023322</td>\n",
       "      <td>12.0</td>\n",
       "    </tr>\n",
       "    <tr>\n",
       "      <th>Discussion</th>\n",
       "      <td>41.53125</td>\n",
       "      <td>26.801606</td>\n",
       "      <td>40.0</td>\n",
       "    </tr>\n",
       "  </tbody>\n",
       "</table>\n",
       "</div>"
      ],
      "text/plain": [
       "                       mean        std   mod\n",
       "raisedhands        45.13125  31.255112  80.0\n",
       "AnnouncementsView  36.74375  25.023322  12.0\n",
       "Discussion         41.53125  26.801606  40.0"
      ]
     },
     "execution_count": 8,
     "metadata": {},
     "output_type": "execute_result"
    }
   ],
   "source": [
    "veri_ozeti"
   ]
  },
  {
   "cell_type": "markdown",
   "id": "1cc15a11",
   "metadata": {},
   "source": [
    "# Madde 2"
   ]
  },
  {
   "cell_type": "code",
   "execution_count": 9,
   "id": "9e7ed40b",
   "metadata": {},
   "outputs": [],
   "source": [
    "kategorik_veriler = [x for x in edu_data.columns if edu_data[x].dtypes == \"O\"]"
   ]
  },
  {
   "cell_type": "code",
   "execution_count": 10,
   "id": "eff83809",
   "metadata": {},
   "outputs": [],
   "source": [
    "sum_no_column_2 = [\"gender\", \"Semester\", \"Relation\", \"ParentAnsweringSurvey\", \"ParentschoolSatisfaction\", \"StudentAbsenceDays\"]\n",
    "sum_no_column_3 = [\"StageID\", \"SectionID\", \"Class\"]\n",
    "sum_no_column_12 = [\"Topic\", \"PlaceofBirth\", \"NationalITy\"]"
   ]
  },
  {
   "cell_type": "code",
   "execution_count": 11,
   "id": "56939445",
   "metadata": {},
   "outputs": [
    {
     "data": {
      "image/png": "[encoded data removed]",
      "text/plain": [
       "<Figure size 864x360 with 1 Axes>"
      ]
     },
     "metadata": {
      "needs_background": "light"
     },
     "output_type": "display_data"
    },
    {
     "data": {
      "image/png": "[encoded data removed]",
      "text/plain": [
       "<Figure size 864x360 with 1 Axes>"
      ]
     },
     "metadata": {
      "needs_background": "light"
     },
     "output_type": "display_data"
    },
    {
     "data": {
      "image/png": "[encoded data removed]",
      "text/plain": [
       "<Figure size 864x360 with 1 Axes>"
      ]
     },
     "metadata": {
      "needs_background": "light"
     },
     "output_type": "display_data"
    },
    {
     "data": {
      "image/png": "[encoded data removed]",
      "text/plain": [
       "<Figure size 864x360 with 1 Axes>"
      ]
     },
     "metadata": {
      "needs_background": "light"
     },
     "output_type": "display_data"
    },
    {
     "data": {
      "image/png": "[encoded data removed]",
      "text/plain": [
       "<Figure size 864x360 with 1 Axes>"
      ]
     },
     "metadata": {
      "needs_background": "light"
     },
     "output_type": "display_data"
    },
    {
     "data": {
      "image/png": "[encoded data removed]",
      "text/plain": [
       "<Figure size 864x360 with 1 Axes>"
      ]
     },
     "metadata": {
      "needs_background": "light"
     },
     "output_type": "display_data"
    }
   ],
   "source": [
    "import matplotlib.pyplot as plt\n",
    "\n",
    "for i in edu_data[sum_no_column_2].columns:\n",
    "    bins = np.arange(10) - 0.5\n",
    "    plt.figure(figsize = (12,5))\n",
    "    plt.hist(x = edu_data[i], bins = bins, edgecolor = \"black\")    \n",
    "    plt.xticks(range(10), fontsize = 13)\n",
    "    plt.xlabel(edu_data[i].name, weight='bold', fontsize = 13)\n",
    "    plt.xlim([-1, 2])\n",
    "    plt.ylim(0, 110)\n",
    "    plt.show()"
   ]
  },
  {
   "cell_type": "code",
   "execution_count": 12,
   "id": "b8147231",
   "metadata": {},
   "outputs": [
    {
     "data": {
      "image/png": "[encoded data removed]",
      "text/plain": [
       "<Figure size 864x360 with 1 Axes>"
      ]
     },
     "metadata": {
      "needs_background": "light"
     },
     "output_type": "display_data"
    },
    {
     "data": {
      "image/png": "[encoded data removed]",
      "text/plain": [
       "<Figure size 864x360 with 1 Axes>"
      ]
     },
     "metadata": {
      "needs_background": "light"
     },
     "output_type": "display_data"
    },
    {
     "data": {
      "image/png": "[encoded data removed]",
      "text/plain": [
       "<Figure size 864x360 with 1 Axes>"
      ]
     },
     "metadata": {
      "needs_background": "light"
     },
     "output_type": "display_data"
    }
   ],
   "source": [
    "for j in edu_data[sum_no_column_3].columns:\n",
    "    bins = np.arange(10) - 0.5\n",
    "    plt.figure(figsize = (12,5))\n",
    "    plt.hist(x = edu_data[j], bins = bins, edgecolor = \"black\")\n",
    "    plt.xticks(range(10), fontsize = 13)\n",
    "    plt.xlabel(edu_data[j].name, weight='bold', fontsize = 12)\n",
    "    plt.xlim([-1, 3])\n",
    "    plt.ylim(0, 120)"
   ]
  },
  {
   "cell_type": "code",
   "execution_count": 13,
   "id": "40af4c56",
   "metadata": {},
   "outputs": [
    {
     "data": {
      "image/png": "[encoded data removed]",
      "text/plain": [
       "<Figure size 864x360 with 1 Axes>"
      ]
     },
     "metadata": {
      "needs_background": "light"
     },
     "output_type": "display_data"
    },
    {
     "data": {
      "image/png": "[encoded data removed]",
      "text/plain": [
       "<Figure size 864x360 with 1 Axes>"
      ]
     },
     "metadata": {
      "needs_background": "light"
     },
     "output_type": "display_data"
    },
    {
     "data": {
      "image/png": "[encoded data removed]",
      "text/plain": [
       "<Figure size 864x360 with 1 Axes>"
      ]
     },
     "metadata": {
      "needs_background": "light"
     },
     "output_type": "display_data"
    }
   ],
   "source": [
    "for k in edu_data[sum_no_column_12].columns:\n",
    "    bins = np.arange(10) - 0.5\n",
    "    plt.figure(figsize = (12,5))\n",
    "    plt.hist(x = edu_data[k], bins = bins, edgecolor = \"black\")\n",
    "    plt.xticks(range(10), fontsize = 11)\n",
    "    plt.xlabel(edu_data[k].name, weight='bold', fontsize = 12)\n",
    "    plt.xlim([-1, 10])\n",
    "    plt.ylim(0, 120)"
   ]
  },
  {
   "cell_type": "code",
   "execution_count": 14,
   "id": "fed96f33",
   "metadata": {},
   "outputs": [
    {
     "name": "stdout",
     "output_type": "stream",
     "text": [
      "M    106\n",
      "F     54\n",
      "Name: gender, dtype: int64 \n",
      "\n",
      "\n",
      "KW             61\n",
      "Jordan         58\n",
      "Iraq            8\n",
      "lebanon         7\n",
      "Palestine       7\n",
      "Tunis           4\n",
      "Iran            3\n",
      "SaudiArabia     3\n",
      "Lybia           3\n",
      "Egypt           2\n",
      "Syria           2\n",
      "USA             1\n",
      "Morocco         1\n",
      "Name: NationalITy, dtype: int64 \n",
      "\n",
      "\n",
      "KuwaIT         61\n",
      "Jordan         55\n",
      "Iraq            8\n",
      "lebanon         7\n",
      "USA             6\n",
      "SaudiArabia     5\n",
      "Palestine       4\n",
      "Iran            3\n",
      "Tunis           3\n",
      "Lybia           3\n",
      "Egypt           2\n",
      "Syria           2\n",
      "Morocco         1\n",
      "Name: PlaceofBirth, dtype: int64 \n",
      "\n",
      "\n",
      "MiddleSchool    83\n",
      "lowerlevel      66\n",
      "HighSchool      11\n",
      "Name: StageID, dtype: int64 \n",
      "\n",
      "\n",
      "A    96\n",
      "B    55\n",
      "C     9\n",
      "Name: SectionID, dtype: int64 \n",
      "\n",
      "\n",
      "IT           33\n",
      "French       22\n",
      "Arabic       19\n",
      "Science      16\n",
      "English      16\n",
      "Biology      10\n",
      "Math          8\n",
      "Spanish       8\n",
      "Chemistry     8\n",
      "History       7\n",
      "Geology       7\n",
      "Quran         6\n",
      "Name: Topic, dtype: int64 \n",
      "\n",
      "\n",
      "F    81\n",
      "S    79\n",
      "Name: Semester, dtype: int64 \n",
      "\n",
      "\n",
      "Father    96\n",
      "Mum       64\n",
      "Name: Relation, dtype: int64 \n",
      "\n",
      "\n",
      "Yes    88\n",
      "No     72\n",
      "Name: ParentAnsweringSurvey, dtype: int64 \n",
      "\n",
      "\n",
      "Good    94\n",
      "Bad     66\n",
      "Name: ParentschoolSatisfaction, dtype: int64 \n",
      "\n",
      "\n",
      "Under-7    94\n",
      "Above-7    66\n",
      "Name: StudentAbsenceDays, dtype: int64 \n",
      "\n",
      "\n",
      "M    73\n",
      "L    46\n",
      "H    41\n",
      "Name: Class, dtype: int64 \n",
      "\n",
      "\n"
     ]
    }
   ],
   "source": [
    "kategorik_veriler = [x for x in edu_data.columns if edu_data[x].dtypes == \"O\"]\n",
    "# mode_ile_degistir metodu kullanmadan önce \n",
    "for i in edu_data[kategorik_veriler].columns:\n",
    "     print(edu_data[i].value_counts(), \"\\n\\n\")"
   ]
  },
  {
   "cell_type": "code",
   "execution_count": 15,
   "id": "b6ce2c52",
   "metadata": {},
   "outputs": [],
   "source": [
    "def mode_ile_degistir(dataframe, column_name, threshold = 2):\n",
    "    \"\"\"\n",
    "    Summary : \n",
    "    \n",
    "    Histogramı cizdirilen verisetinde az gorulen degerleri\n",
    "    en cok tekrar eden degerle degistir(mod).\n",
    "\n",
    "    Args:\n",
    "        column_name (str) : dataframe'in kolonunun adı\n",
    "        threshold (int64) : en az kac deger mod ile degistirilsin, default = 2\n",
    "        \n",
    "    Returns:\n",
    "        data.frame --> edu_data\n",
    "    \"\"\"\n",
    "    \n",
    "    # threshold'dan az gorulen degerler\n",
    "    c_data = dataframe[column_name].value_counts() <= threshold\n",
    "    \n",
    "    # threshold'dan az gorulen degerlerin adları\n",
    "    silinecek_verilerin_adları = c_data.index[c_data == True]\n",
    "    \n",
    "    # mod bulma(daha sonra en cok tekrar edenle degistirmek icin)\n",
    "    mode = dataframe.loc[:, [column_name]].mode() \n",
    "    \n",
    "    # silinecek verilerin adlari kadar donen bir for\n",
    "    for i in range(len(silinecek_verilerin_adları)): \n",
    "        \n",
    "        #degistirelecek verileri tespit etme\n",
    "        degistirelecek = dataframe[dataframe[column_name] == silinecek_verilerin_adları[i]]\n",
    "        \n",
    "        #degistirelecek verileri kolonda en cok tekrar eden degerle(mod) ile degistirme\n",
    "        dataframe.loc[degistirelecek.index, [column_name]] = mode.values\n",
    "        \n",
    "    return dataframe\n",
    "\n",
    "\n",
    "for i in edu_data[kategorik_veriler].columns:\n",
    "    mode_ile_degistir(edu_data, edu_data[i].name)"
   ]
  },
  {
   "cell_type": "code",
   "execution_count": 16,
   "id": "301d3511",
   "metadata": {},
   "outputs": [
    {
     "name": "stdout",
     "output_type": "stream",
     "text": [
      "M    106\n",
      "F     54\n",
      "Name: gender, dtype: int64 \n",
      "\n",
      "\n",
      "KW             67\n",
      "Jordan         58\n",
      "Iraq            8\n",
      "lebanon         7\n",
      "Palestine       7\n",
      "Tunis           4\n",
      "Iran            3\n",
      "SaudiArabia     3\n",
      "Lybia           3\n",
      "Name: NationalITy, dtype: int64 \n",
      "\n",
      "\n",
      "KuwaIT         66\n",
      "Jordan         55\n",
      "Iraq            8\n",
      "lebanon         7\n",
      "USA             6\n",
      "SaudiArabia     5\n",
      "Palestine       4\n",
      "Iran            3\n",
      "Tunis           3\n",
      "Lybia           3\n",
      "Name: PlaceofBirth, dtype: int64 \n",
      "\n",
      "\n",
      "MiddleSchool    83\n",
      "lowerlevel      66\n",
      "HighSchool      11\n",
      "Name: StageID, dtype: int64 \n",
      "\n",
      "\n",
      "A    96\n",
      "B    55\n",
      "C     9\n",
      "Name: SectionID, dtype: int64 \n",
      "\n",
      "\n",
      "IT           33\n",
      "French       22\n",
      "Arabic       19\n",
      "Science      16\n",
      "English      16\n",
      "Biology      10\n",
      "Math          8\n",
      "Spanish       8\n",
      "Chemistry     8\n",
      "History       7\n",
      "Geology       7\n",
      "Quran         6\n",
      "Name: Topic, dtype: int64 \n",
      "\n",
      "\n",
      "F    81\n",
      "S    79\n",
      "Name: Semester, dtype: int64 \n",
      "\n",
      "\n",
      "Father    96\n",
      "Mum       64\n",
      "Name: Relation, dtype: int64 \n",
      "\n",
      "\n",
      "Yes    88\n",
      "No     72\n",
      "Name: ParentAnsweringSurvey, dtype: int64 \n",
      "\n",
      "\n",
      "Good    94\n",
      "Bad     66\n",
      "Name: ParentschoolSatisfaction, dtype: int64 \n",
      "\n",
      "\n",
      "Under-7    94\n",
      "Above-7    66\n",
      "Name: StudentAbsenceDays, dtype: int64 \n",
      "\n",
      "\n",
      "M    73\n",
      "L    46\n",
      "H    41\n",
      "Name: Class, dtype: int64 \n",
      "\n",
      "\n"
     ]
    }
   ],
   "source": [
    "# mode_ile_degistir metodu kullandıktan sonra\n",
    "for i in edu_data[kategorik_veriler].columns:\n",
    "     print(edu_data[i].value_counts(), \"\\n\\n\")"
   ]
  },
  {
   "cell_type": "markdown",
   "id": "021e23b1",
   "metadata": {},
   "source": [
    "# Madde 3"
   ]
  },
  {
   "cell_type": "code",
   "execution_count": 17,
   "id": "b36cfc3e",
   "metadata": {},
   "outputs": [],
   "source": [
    "kategorik_veriler = [x for x in edu_data.columns if edu_data[x].dtypes == \"O\"]"
   ]
  },
  {
   "cell_type": "code",
   "execution_count": 28,
   "id": "f1553cff",
   "metadata": {},
   "outputs": [],
   "source": [
    "Information_Gain_List = []"
   ]
  },
  {
   "cell_type": "code",
   "execution_count": 29,
   "id": "26c78f54",
   "metadata": {},
   "outputs": [],
   "source": [
    "entropy_list = []"
   ]
  },
  {
   "cell_type": "code",
   "execution_count": 30,
   "id": "9bda324f",
   "metadata": {},
   "outputs": [],
   "source": [
    "class_haric = kategorik_veriler[:-1]"
   ]
  },
  {
   "cell_type": "code",
   "execution_count": 31,
   "id": "16d670ff",
   "metadata": {},
   "outputs": [
    {
     "data": {
      "text/plain": [
       "gender  Class\n",
       "M       M        50\n",
       "        L        37\n",
       "        H        19\n",
       "dtype: int64"
      ]
     },
     "execution_count": 31,
     "metadata": {},
     "output_type": "execute_result"
    }
   ],
   "source": [
    "edu_data.loc[edu_data[\"gender\"] == edu_data.loc[:,\"gender\"].unique()[0]][[\"gender\", \"Class\"]].value_counts()"
   ]
  },
  {
   "cell_type": "markdown",
   "id": "4a58b55f",
   "metadata": {},
   "source": [
    "#### !!! calculate_column_IG Metodunun calismasi icin calculate_entropy'i calistirmak gerekiyor"
   ]
  },
  {
   "cell_type": "code",
   "execution_count": 32,
   "id": "625948b7",
   "metadata": {},
   "outputs": [],
   "source": [
    "def calculate_column_IG(dataframe, column_name, class_label):\n",
    "    \"\"\"\n",
    "    Summary:\n",
    "        DataFrame'i kolonu ve class label'i verilen\n",
    "        sütunların information gainini hesaplar\n",
    "    \n",
    "    Args:\n",
    "        dataframe (dataFrame): dataFrame\n",
    "        column_name (object): kolonun ismi\n",
    "        class_label (object): hangi class label kullanılacağı\n",
    "    \n",
    "    Raises:\n",
    "        Exception:\n",
    "        Eger kategorik olmayan bir kolon girilirse\n",
    "        exception doner\n",
    "        \n",
    "    Returns:\n",
    "        list: \n",
    "        Sırasıyla sütunların information gainini doner\n",
    "\"\"\"\n",
    "    \n",
    "    # Kolonun entropisini tutmak icin bir degisken\n",
    "    IG = 0    \n",
    "    \n",
    "    # Eger kategorik olmayan bir kolon girilirse exception doner\n",
    "    if dataframe[column_name].dtypes != 'O':\n",
    "        raise Exception(\"Kategorik olmayan kolon goruldu.\")\n",
    "    else:\n",
    "        \n",
    "        # kolonlardaki toplam unique degerleri\n",
    "        kolonun_nunique_sayisi = dataframe[column_name].nunique()\n",
    "        \n",
    "        # kolonun_nunique_sayisi kadar donen bir for\n",
    "        for j in range(kolonun_nunique_sayisi): \n",
    "            \n",
    "            # hic na deger var mi ?\n",
    "            if dataframe.isna().values.any(): \n",
    "                dataframe = dataframe.dropna() # varsa dusur\n",
    "            else:\n",
    "                # ilgili kolonun her bir unique degerinin class label ile ikili kombinasyonunu al bir data frame'e cevir \n",
    "                hesaplanmak_istenen_sutun = pd.DataFrame(dataframe.loc[dataframe[column_name] == dataframe.loc[:,column_name].unique()[j]][[column_name, class_label]])\n",
    "                \n",
    "                \"\"\"\n",
    "                gender  Class\n",
    "                M       M        50\n",
    "                        L        37\n",
    "                        H        19\n",
    "                \"\"\"\n",
    "                # vc_of_his icin yukarıda gender kolonunun 'M' degeri icin bir cikti var\n",
    "                # gender 'M' iken Class icin ['M', 'L', 'H'] degerlerini getirtir\n",
    "                vc_of_his = pd.DataFrame(hesaplanmak_istenen_sutun.value_counts())\n",
    "                \n",
    "                # Hesaplanmak istenen sutunların entropilerini hesaplattir\n",
    "                Entropy_of_his = entropy_calculate(hesaplanmak_istenen_sutun, hesaplanmak_istenen_sutun[class_label].name)\n",
    "                \n",
    "                # bir sutünun her bir unique degerini level diye bir degiskende tut\n",
    "                level = dataframe.loc[:,column_name].unique()[j]\n",
    "                \n",
    "                # yukarıda verilen ornekde ki gibi tum degerlerin teker teker toplamini bul (gender ornegi)\n",
    "                SUM = vc_of_his.xs(level)[0].sum() # multindex oldugu icin xs ile eristik\n",
    "                row_of_df = dataframe.shape[0]\n",
    "                \n",
    "                # her bir kolonun unique degerlerinin olasiligini bul ## gender icin ornek (50+37+19) / row_of_df\n",
    "                prob = SUM / row_of_df\n",
    "                \n",
    "                # Entropy_of_his'e son eklenen degerle olasılıgını carp ve ilgili kolonun entropy'sini bul\n",
    "                IG += (Entropy_of_his[-1] * prob)\n",
    "                #print(level,\" | \", SUM, \" | \", Entropy_of_his[-1], \" * (\", SUM, \"/\",row_of_df, \") --> \", IG, \"\\n\")\n",
    "                \n",
    "                # eger kolon icin son unique degere geldiyse hesaplama bitti listeye ekle\n",
    "                if j == kolonun_nunique_sayisi - 1:\n",
    "                    Information_Gain_List.append(IG)\n",
    "                    IG = 0 # sonraki kolon icin yeniden IG hesaplamak icin sifirladik\n",
    "                    \n",
    "    return print(Information_Gain_List[-1])"
   ]
  },
  {
   "cell_type": "code",
   "execution_count": 33,
   "id": "9b58fba9",
   "metadata": {},
   "outputs": [
    {
     "name": "stdout",
     "output_type": "stream",
     "text": [
      "1.4849471307236142\n",
      "1.3513134930223374\n",
      "1.3403117381486656\n",
      "1.4973374347879271\n",
      "1.505918635087016\n",
      "1.406668763678674\n",
      "1.5344141610705038\n",
      "1.3805581625305408\n",
      "1.3725396275467272\n",
      "1.4171674918943342\n",
      "1.134201086906912\n"
     ]
    }
   ],
   "source": [
    "for i in edu_data[class_haric].columns:\n",
    "    calculate_column_IG(edu_data, edu_data[i].name, \"Class\")"
   ]
  },
  {
   "cell_type": "code",
   "execution_count": 34,
   "id": "680cf768",
   "metadata": {},
   "outputs": [
    {
     "data": {
      "text/plain": [
       "[1.4849471307236142,\n",
       " 1.3513134930223374,\n",
       " 1.3403117381486656,\n",
       " 1.4973374347879271,\n",
       " 1.505918635087016,\n",
       " 1.406668763678674,\n",
       " 1.5344141610705038,\n",
       " 1.3805581625305408,\n",
       " 1.3725396275467272,\n",
       " 1.4171674918943342,\n",
       " 1.134201086906912]"
      ]
     },
     "execution_count": 34,
     "metadata": {},
     "output_type": "execute_result"
    }
   ],
   "source": [
    "Information_Gain_List"
   ]
  },
  {
   "cell_type": "code",
   "execution_count": 36,
   "id": "abbc5fe7",
   "metadata": {
    "scrolled": true
   },
   "outputs": [
    {
     "data": {
      "text/html": [
       "<div>\n",
       "<style scoped>\n",
       "    .dataframe tbody tr th:only-of-type {\n",
       "        vertical-align: middle;\n",
       "    }\n",
       "\n",
       "    .dataframe tbody tr th {\n",
       "        vertical-align: top;\n",
       "    }\n",
       "\n",
       "    .dataframe thead th {\n",
       "        text-align: right;\n",
       "    }\n",
       "</style>\n",
       "<table border=\"1\" class=\"dataframe\">\n",
       "  <thead>\n",
       "    <tr style=\"text-align: right;\">\n",
       "      <th></th>\n",
       "      <th>Information_Gain_of_Column</th>\n",
       "    </tr>\n",
       "  </thead>\n",
       "  <tbody>\n",
       "    <tr>\n",
       "      <th>gender</th>\n",
       "      <td>1.484947</td>\n",
       "    </tr>\n",
       "    <tr>\n",
       "      <th>NationalITy</th>\n",
       "      <td>1.351313</td>\n",
       "    </tr>\n",
       "    <tr>\n",
       "      <th>PlaceofBirth</th>\n",
       "      <td>1.340312</td>\n",
       "    </tr>\n",
       "    <tr>\n",
       "      <th>StageID</th>\n",
       "      <td>1.497337</td>\n",
       "    </tr>\n",
       "    <tr>\n",
       "      <th>SectionID</th>\n",
       "      <td>1.505919</td>\n",
       "    </tr>\n",
       "    <tr>\n",
       "      <th>Topic</th>\n",
       "      <td>1.406669</td>\n",
       "    </tr>\n",
       "    <tr>\n",
       "      <th>Semester</th>\n",
       "      <td>1.534414</td>\n",
       "    </tr>\n",
       "    <tr>\n",
       "      <th>Relation</th>\n",
       "      <td>1.380558</td>\n",
       "    </tr>\n",
       "    <tr>\n",
       "      <th>ParentAnsweringSurvey</th>\n",
       "      <td>1.372540</td>\n",
       "    </tr>\n",
       "    <tr>\n",
       "      <th>ParentschoolSatisfaction</th>\n",
       "      <td>1.417167</td>\n",
       "    </tr>\n",
       "    <tr>\n",
       "      <th>StudentAbsenceDays</th>\n",
       "      <td>1.134201</td>\n",
       "    </tr>\n",
       "  </tbody>\n",
       "</table>\n",
       "</div>"
      ],
      "text/plain": [
       "                          Information_Gain_of_Column\n",
       "gender                                      1.484947\n",
       "NationalITy                                 1.351313\n",
       "PlaceofBirth                                1.340312\n",
       "StageID                                     1.497337\n",
       "SectionID                                   1.505919\n",
       "Topic                                       1.406669\n",
       "Semester                                    1.534414\n",
       "Relation                                    1.380558\n",
       "ParentAnsweringSurvey                       1.372540\n",
       "ParentschoolSatisfaction                    1.417167\n",
       "StudentAbsenceDays                          1.134201"
      ]
     },
     "execution_count": 36,
     "metadata": {},
     "output_type": "execute_result"
    }
   ],
   "source": [
    "ozelliklerin_InformationGainleri = pd.DataFrame(index = [class_haric], data = Information_Gain_List)#.sort_values(by = [0])\n",
    "ozelliklerin_InformationGainleri.rename(columns={0:\"Information_Gain_of_Column\"})"
   ]
  },
  {
   "cell_type": "code",
   "execution_count": 37,
   "id": "77fc9144",
   "metadata": {},
   "outputs": [],
   "source": [
    "# Kolon Entropisi icin DataFrame\n",
    "pd_for_Kolon_Entropi = pd.DataFrame(Information_Gain_List)\n",
    "\n",
    "# Genel(Class_Label) Entropi icin DataFrame\n",
    "array_for_Genel_Entropi = []\n",
    "\n",
    "lenght_for_GE = 11\n",
    "for j in range(lenght_for_GE):\n",
    "    array_for_Genel_Entropi.append(ozelliklerin_Entropileri.iloc[8,0])\n",
    "\n",
    "array_for_Genel_Entropi\n",
    "pd_for_Genel_Entropi = pd.DataFrame(array_for_Genel_Entropi)\n",
    "\n",
    "# Information Gain icin DataFrame\n",
    "array_for_IG = []\n",
    "lenght_of_IG = len(Information_Gain_List)\n",
    "for i in range(lenght_of_IG):\n",
    "    Genel_Entropi = ozelliklerin_Entropileri.iloc[8,0]\n",
    "    Kolon_Entropileri = Information_Gain_List[i]\n",
    "    Information_Gain = Genel_Entropi - Kolon_Entropileri\n",
    "    array_for_IG.append(Information_Gain)\n",
    "    #print(Genel_Entropi, \"-\" ,Kolon_Entropileri, \":\", Information_Gain)\n",
    "\n",
    "pd_for_IG = pd.DataFrame(array_for_IG) "
   ]
  },
  {
   "cell_type": "code",
   "execution_count": 38,
   "id": "93c0671b",
   "metadata": {},
   "outputs": [
    {
     "data": {
      "text/html": [
       "<div>\n",
       "<style scoped>\n",
       "    .dataframe tbody tr th:only-of-type {\n",
       "        vertical-align: middle;\n",
       "    }\n",
       "\n",
       "    .dataframe tbody tr th {\n",
       "        vertical-align: top;\n",
       "    }\n",
       "\n",
       "    .dataframe thead th {\n",
       "        text-align: right;\n",
       "    }\n",
       "</style>\n",
       "<table border=\"1\" class=\"dataframe\">\n",
       "  <thead>\n",
       "    <tr style=\"text-align: right;\">\n",
       "      <th></th>\n",
       "      <th>Genel_Entropi</th>\n",
       "      <th>Kolon_Entropisi</th>\n",
       "      <th>Information_Gain</th>\n",
       "    </tr>\n",
       "  </thead>\n",
       "  <tbody>\n",
       "    <tr>\n",
       "      <th>gender</th>\n",
       "      <td>1.536924</td>\n",
       "      <td>1.484947</td>\n",
       "      <td>0.051977</td>\n",
       "    </tr>\n",
       "    <tr>\n",
       "      <th>NationalITy</th>\n",
       "      <td>1.536924</td>\n",
       "      <td>1.351313</td>\n",
       "      <td>0.185610</td>\n",
       "    </tr>\n",
       "    <tr>\n",
       "      <th>PlaceofBirth</th>\n",
       "      <td>1.536924</td>\n",
       "      <td>1.340312</td>\n",
       "      <td>0.196612</td>\n",
       "    </tr>\n",
       "    <tr>\n",
       "      <th>StageID</th>\n",
       "      <td>1.536924</td>\n",
       "      <td>1.497337</td>\n",
       "      <td>0.039586</td>\n",
       "    </tr>\n",
       "    <tr>\n",
       "      <th>SectionID</th>\n",
       "      <td>1.536924</td>\n",
       "      <td>1.505919</td>\n",
       "      <td>0.031005</td>\n",
       "    </tr>\n",
       "    <tr>\n",
       "      <th>Topic</th>\n",
       "      <td>1.536924</td>\n",
       "      <td>1.406669</td>\n",
       "      <td>0.130255</td>\n",
       "    </tr>\n",
       "    <tr>\n",
       "      <th>Semester</th>\n",
       "      <td>1.536924</td>\n",
       "      <td>1.534414</td>\n",
       "      <td>0.002510</td>\n",
       "    </tr>\n",
       "    <tr>\n",
       "      <th>Relation</th>\n",
       "      <td>1.536924</td>\n",
       "      <td>1.380558</td>\n",
       "      <td>0.156366</td>\n",
       "    </tr>\n",
       "    <tr>\n",
       "      <th>ParentAnsweringSurvey</th>\n",
       "      <td>1.536924</td>\n",
       "      <td>1.372540</td>\n",
       "      <td>0.164384</td>\n",
       "    </tr>\n",
       "    <tr>\n",
       "      <th>ParentschoolSatisfaction</th>\n",
       "      <td>1.536924</td>\n",
       "      <td>1.417167</td>\n",
       "      <td>0.119756</td>\n",
       "    </tr>\n",
       "    <tr>\n",
       "      <th>StudentAbsenceDays</th>\n",
       "      <td>1.536924</td>\n",
       "      <td>1.134201</td>\n",
       "      <td>0.402723</td>\n",
       "    </tr>\n",
       "  </tbody>\n",
       "</table>\n",
       "</div>"
      ],
      "text/plain": [
       "                          Genel_Entropi  Kolon_Entropisi  Information_Gain\n",
       "gender                         1.536924         1.484947          0.051977\n",
       "NationalITy                    1.536924         1.351313          0.185610\n",
       "PlaceofBirth                   1.536924         1.340312          0.196612\n",
       "StageID                        1.536924         1.497337          0.039586\n",
       "SectionID                      1.536924         1.505919          0.031005\n",
       "Topic                          1.536924         1.406669          0.130255\n",
       "Semester                       1.536924         1.534414          0.002510\n",
       "Relation                       1.536924         1.380558          0.156366\n",
       "ParentAnsweringSurvey          1.536924         1.372540          0.164384\n",
       "ParentschoolSatisfaction       1.536924         1.417167          0.119756\n",
       "StudentAbsenceDays             1.536924         1.134201          0.402723"
      ]
     },
     "execution_count": 38,
     "metadata": {},
     "output_type": "execute_result"
    }
   ],
   "source": [
    "Information_Gain_pd = pd.DataFrame(index=class_haric)\n",
    "Information_Gain_pd.insert(0,\"Genel_Entropi\",pd_for_Genel_Entropi)\n",
    "Information_Gain_pd.insert(1,\"Kolon_Entropisi\",pd_for_Kolon_Entropi)\n",
    "Information_Gain_pd.insert(2,\"Information_Gain\",pd_for_IG)\n",
    "Information_Gain_pd"
   ]
  },
  {
   "cell_type": "markdown",
   "id": "be907fbc",
   "metadata": {},
   "source": [
    "# Madde 4"
   ]
  },
  {
   "cell_type": "code",
   "execution_count": 22,
   "id": "74fe5873",
   "metadata": {},
   "outputs": [],
   "source": [
    "import math\n",
    "from scipy.stats import entropy\n",
    "kategorik_veriler = [x for x in edu_data_copy.columns if edu_data_copy[x].dtypes == \"O\"]"
   ]
  },
  {
   "cell_type": "code",
   "execution_count": 25,
   "id": "9d86e24e",
   "metadata": {},
   "outputs": [],
   "source": [
    "entropy_list = []"
   ]
  },
  {
   "cell_type": "code",
   "execution_count": 26,
   "id": "baa54ab9",
   "metadata": {},
   "outputs": [],
   "source": [
    "def entropy_calculate(dataframe, column_name):\n",
    "    \"\"\"\n",
    "    Summary:\n",
    "        Veri setinin tüm kolonlarının entropsini bulup\n",
    "        sırasıyla liste icine ekliyor\n",
    "\n",
    "    Args:\n",
    "        dataframe (data.Frame): Veri seti\n",
    "        column_name (str): kolonun adı\n",
    "    \n",
    "    Raises :\n",
    "        Exception :\n",
    "            Eger object veri tipi dışında bir\n",
    "            veri tipi girilirse exception fırlatır.\n",
    "        \n",
    "    Returns:\n",
    "        list : kolonların entropileri      \n",
    "    \"\"\"\n",
    "    if dataframe[column_name].dtypes == \"O\":\n",
    "        c_data_copy = dataframe[column_name].value_counts()\n",
    "        \n",
    "        entropy = 0\n",
    "        len_of_cdata = len(c_data_copy)\n",
    "        \n",
    "        for i in range(len_of_cdata):\n",
    "             \n",
    "            p_of_val = (c_data_copy[i] / dataframe.shape[0])\n",
    "            entropy += -(math.log(p_of_val, 2) * p_of_val)\n",
    "            \n",
    "            if i == len_of_cdata - 1:\n",
    "                entropy_list.append(entropy)\n",
    "    else:\n",
    "        raise Exception(\"Sadece kategorik verilerin entropisi hesaplanır.\")\n",
    "        \n",
    "    return entropy_list\n",
    "\n",
    "\n",
    "for i in edu_data_copy[kategorik_veriler].columns:\n",
    "    entropy_calculate(edu_data_copy, edu_data_copy[i].name)"
   ]
  },
  {
   "cell_type": "code",
   "execution_count": 27,
   "id": "b7b1ef9b",
   "metadata": {},
   "outputs": [
    {
     "data": {
      "text/html": [
       "<div>\n",
       "<style scoped>\n",
       "    .dataframe tbody tr th:only-of-type {\n",
       "        vertical-align: middle;\n",
       "    }\n",
       "\n",
       "    .dataframe tbody tr th {\n",
       "        vertical-align: top;\n",
       "    }\n",
       "\n",
       "    .dataframe thead th {\n",
       "        text-align: right;\n",
       "    }\n",
       "</style>\n",
       "<table border=\"1\" class=\"dataframe\">\n",
       "  <thead>\n",
       "    <tr style=\"text-align: right;\">\n",
       "      <th></th>\n",
       "      <th>Entropiler</th>\n",
       "    </tr>\n",
       "  </thead>\n",
       "  <tbody>\n",
       "    <tr>\n",
       "      <th>gender</th>\n",
       "      <td>0.922406</td>\n",
       "    </tr>\n",
       "    <tr>\n",
       "      <th>Relation</th>\n",
       "      <td>0.970951</td>\n",
       "    </tr>\n",
       "    <tr>\n",
       "      <th>ParentschoolSatisfaction</th>\n",
       "      <td>0.977795</td>\n",
       "    </tr>\n",
       "    <tr>\n",
       "      <th>StudentAbsenceDays</th>\n",
       "      <td>0.977795</td>\n",
       "    </tr>\n",
       "    <tr>\n",
       "      <th>ParentAnsweringSurvey</th>\n",
       "      <td>0.992774</td>\n",
       "    </tr>\n",
       "    <tr>\n",
       "      <th>Semester</th>\n",
       "      <td>0.999887</td>\n",
       "    </tr>\n",
       "    <tr>\n",
       "      <th>SectionID</th>\n",
       "      <td>1.205300</td>\n",
       "    </tr>\n",
       "    <tr>\n",
       "      <th>StageID</th>\n",
       "      <td>1.283728</td>\n",
       "    </tr>\n",
       "    <tr>\n",
       "      <th>Class</th>\n",
       "      <td>1.536924</td>\n",
       "    </tr>\n",
       "    <tr>\n",
       "      <th>NationalITy</th>\n",
       "      <td>2.377519</td>\n",
       "    </tr>\n",
       "    <tr>\n",
       "      <th>PlaceofBirth</th>\n",
       "      <td>2.467020</td>\n",
       "    </tr>\n",
       "    <tr>\n",
       "      <th>Topic</th>\n",
       "      <td>3.363708</td>\n",
       "    </tr>\n",
       "  </tbody>\n",
       "</table>\n",
       "</div>"
      ],
      "text/plain": [
       "                          Entropiler\n",
       "gender                      0.922406\n",
       "Relation                    0.970951\n",
       "ParentschoolSatisfaction    0.977795\n",
       "StudentAbsenceDays          0.977795\n",
       "ParentAnsweringSurvey       0.992774\n",
       "Semester                    0.999887\n",
       "SectionID                   1.205300\n",
       "StageID                     1.283728\n",
       "Class                       1.536924\n",
       "NationalITy                 2.377519\n",
       "PlaceofBirth                2.467020\n",
       "Topic                       3.363708"
      ]
     },
     "execution_count": 27,
     "metadata": {},
     "output_type": "execute_result"
    }
   ],
   "source": [
    "ozelliklerin_Entropileri = pd.DataFrame(index = [kategorik_veriler], data = entropy_list).sort_values(by = [0])\n",
    "ozelliklerin_Entropileri.rename(columns={0:\"Entropiler\"})"
   ]
  },
  {
   "cell_type": "markdown",
   "id": "44cd323c",
   "metadata": {},
   "source": [
    "# Madde 5"
   ]
  },
  {
   "cell_type": "code",
   "execution_count": 39,
   "id": "d4768cf0",
   "metadata": {},
   "outputs": [
    {
     "data": {
      "text/html": [
       "<div>\n",
       "<style scoped>\n",
       "    .dataframe tbody tr th:only-of-type {\n",
       "        vertical-align: middle;\n",
       "    }\n",
       "\n",
       "    .dataframe tbody tr th {\n",
       "        vertical-align: top;\n",
       "    }\n",
       "\n",
       "    .dataframe thead th {\n",
       "        text-align: right;\n",
       "    }\n",
       "</style>\n",
       "<table border=\"1\" class=\"dataframe\">\n",
       "  <thead>\n",
       "    <tr style=\"text-align: right;\">\n",
       "      <th></th>\n",
       "      <th>raisedhands</th>\n",
       "      <th>AnnouncementsView</th>\n",
       "      <th>Discussion</th>\n",
       "    </tr>\n",
       "  </thead>\n",
       "  <tbody>\n",
       "    <tr>\n",
       "      <th>0</th>\n",
       "      <td>20</td>\n",
       "      <td>3</td>\n",
       "      <td>25</td>\n",
       "    </tr>\n",
       "    <tr>\n",
       "      <th>1</th>\n",
       "      <td>40</td>\n",
       "      <td>12</td>\n",
       "      <td>50</td>\n",
       "    </tr>\n",
       "    <tr>\n",
       "      <th>2</th>\n",
       "      <td>50</td>\n",
       "      <td>15</td>\n",
       "      <td>22</td>\n",
       "    </tr>\n",
       "    <tr>\n",
       "      <th>3</th>\n",
       "      <td>50</td>\n",
       "      <td>30</td>\n",
       "      <td>80</td>\n",
       "    </tr>\n",
       "    <tr>\n",
       "      <th>4</th>\n",
       "      <td>20</td>\n",
       "      <td>12</td>\n",
       "      <td>19</td>\n",
       "    </tr>\n",
       "    <tr>\n",
       "      <th>...</th>\n",
       "      <td>...</td>\n",
       "      <td>...</td>\n",
       "      <td>...</td>\n",
       "    </tr>\n",
       "    <tr>\n",
       "      <th>155</th>\n",
       "      <td>80</td>\n",
       "      <td>64</td>\n",
       "      <td>58</td>\n",
       "    </tr>\n",
       "    <tr>\n",
       "      <th>156</th>\n",
       "      <td>9</td>\n",
       "      <td>15</td>\n",
       "      <td>85</td>\n",
       "    </tr>\n",
       "    <tr>\n",
       "      <th>157</th>\n",
       "      <td>80</td>\n",
       "      <td>74</td>\n",
       "      <td>68</td>\n",
       "    </tr>\n",
       "    <tr>\n",
       "      <th>158</th>\n",
       "      <td>5</td>\n",
       "      <td>5</td>\n",
       "      <td>8</td>\n",
       "    </tr>\n",
       "    <tr>\n",
       "      <th>159</th>\n",
       "      <td>30</td>\n",
       "      <td>14</td>\n",
       "      <td>57</td>\n",
       "    </tr>\n",
       "  </tbody>\n",
       "</table>\n",
       "<p>160 rows × 3 columns</p>\n",
       "</div>"
      ],
      "text/plain": [
       "     raisedhands  AnnouncementsView  Discussion\n",
       "0             20                  3          25\n",
       "1             40                 12          50\n",
       "2             50                 15          22\n",
       "3             50                 30          80\n",
       "4             20                 12          19\n",
       "..           ...                ...         ...\n",
       "155           80                 64          58\n",
       "156            9                 15          85\n",
       "157           80                 74          68\n",
       "158            5                  5           8\n",
       "159           30                 14          57\n",
       "\n",
       "[160 rows x 3 columns]"
      ]
     },
     "execution_count": 39,
     "metadata": {},
     "output_type": "execute_result"
    }
   ],
   "source": [
    "numeric_veriler = [x for x in edu_data.columns if (edu_data[x].dtypes == \"int64\") or \n",
    "                                                (edu_data[x].dtypes == \"float64\")]\n",
    "\n",
    "new_df_for_PCA = edu_data_copy[numeric_veriler]\n",
    "new_df_for_PCA"
   ]
  },
  {
   "cell_type": "code",
   "execution_count": 40,
   "id": "0a59d136",
   "metadata": {},
   "outputs": [
    {
     "data": {
      "text/plain": [
       "array([[-0.80659302, -1.35900449, -0.63388747],\n",
       "       [-0.1646886 , -1.00722191,  0.26524369],\n",
       "       [ 0.15626361, -0.88996105, -0.74178321],\n",
       "       [ 0.15626361, -0.30365676,  1.34420109],\n",
       "       [-0.80659302, -1.00722191, -0.84967895],\n",
       "       [-0.29306948, -0.69452629,  1.34420109],\n",
       "       [ 0.79816802,  0.08721276,  2.02754077],\n",
       "       [-0.96706912, -1.39809144,  1.70385355],\n",
       "       [-1.19173567, -0.30365676, -0.09440877],\n",
       "       [ 0.95864413,  0.5562562 ,  0.01348697],\n",
       "       [-1.32011655,  0.08721276, -0.95757469],\n",
       "       [-1.06335478, -1.16356972, -0.09440877],\n",
       "       [-0.0042125 , -0.46000457,  1.70385355],\n",
       "       [-0.99916434, -1.35900449,  0.98454862],\n",
       "       [-0.48564081, -0.38183067,  1.70385355],\n",
       "       [-1.22383089, -1.43717839, -0.45406124],\n",
       "       [-0.51773603,  0.47808229,  1.23630535],\n",
       "       [ 0.31673971, -0.8508741 , -0.09440877],\n",
       "       [-0.9349739 , -1.24174363, -0.8137137 ],\n",
       "       [-0.54983125, -0.73361324,  0.26524369],\n",
       "       [ 0.15626361, -0.22548286, -0.09440877],\n",
       "       [-1.44849743, -1.20265668, -1.46108814],\n",
       "       [ 0.63769192, -0.57726543,  1.34420109],\n",
       "       [-0.74240258, -1.08539582, -1.10143567],\n",
       "       [-0.83868824, -0.46000457, -0.84967895],\n",
       "       [-0.96706912, -0.03004809,  0.04945221],\n",
       "       [ 1.11912023,  0.43899534,  0.44506993],\n",
       "       [-1.22383089, -1.39809144,  1.34420109],\n",
       "       [-1.41640221, -1.43717839, -1.10143567],\n",
       "       [-1.35221177, -1.31991753, -0.3461655 ],\n",
       "       [ 1.11912023,  0.67351705, -0.84967895],\n",
       "       [ 1.11912023, -0.108222  , -1.17336617],\n",
       "       [-1.25592611,  0.00903886, -1.10143567],\n",
       "       [ 0.15626361,  0.08721276,  1.70385355],\n",
       "       [-1.41640221, -1.24174363, -1.17336617],\n",
       "       [-1.06335478, -1.20265668, -0.09440877],\n",
       "       [ 1.44007244, -0.30365676, -1.02950518],\n",
       "       [-1.38430699, -1.35900449,  0.26524369],\n",
       "       [-1.44849743, -1.04630887,  0.98454862],\n",
       "       [-0.67821213, -0.57726543, -0.74178321],\n",
       "       [-1.44849743, -1.16356972, -0.45406124],\n",
       "       [-1.44849743, -1.31991753, -0.99353993],\n",
       "       [ 0.31673971, -1.24174363, -1.20933141],\n",
       "       [-1.22383089, -1.28083058, -0.45406124],\n",
       "       [-1.06335478, -1.47626534,  0.98454862],\n",
       "       [ 0.79816802,  2.23699516,  0.98454862],\n",
       "       [ 1.76102464,  1.84612563,  0.98454862],\n",
       "       [-1.12754522,  0.67351705, -1.13740092],\n",
       "       [ 0.79816802,  0.67351705, -1.13740092],\n",
       "       [ 0.47721581, -0.30365676, -0.09440877],\n",
       "       [-0.71030735,  1.2989083 ,  1.66788831],\n",
       "       [ 0.79816802, -0.18639591, -0.05844353],\n",
       "       [ 0.79816802, -0.18639591, -0.09440877],\n",
       "       [ 1.18331067,  0.79077791,  0.26524369],\n",
       "       [ 0.47721581,  2.15882126,  0.01348697],\n",
       "       [ 0.18835883,  0.59534315,  0.01348697],\n",
       "       [-0.48564081, -0.34274372, -0.70581796],\n",
       "       [-0.80659302,  0.59534315, -1.06547043],\n",
       "       [-1.12754522, -0.96813496,  0.37313943],\n",
       "       [ 1.11912023, -0.18639591, -1.06547043],\n",
       "       [ 0.15626361, -0.96813496, -0.3461655 ],\n",
       "       [-1.12754522, -0.30365676, -1.06547043],\n",
       "       [ 1.11912023,  0.5562562 ,  0.30120894],\n",
       "       [-0.71030735, -0.22548286,  0.37313943],\n",
       "       [ 1.15121545,  0.94712572,  0.37313943],\n",
       "       [ 1.50426288,  0.94712572,  0.37313943],\n",
       "       [-0.0042125 , -1.00722191, -1.06547043],\n",
       "       [-0.64611691, -1.00722191, -0.3461655 ],\n",
       "       [ 0.86235846,  0.16538667, -0.66985272],\n",
       "       [-0.58192647,  0.43899534, -1.02950518],\n",
       "       [-0.90287868,  0.16538667, -1.02950518],\n",
       "       [-0.90287868, -1.39809144, -1.38915765],\n",
       "       [ 1.34378677,  0.08721276, -1.17336617],\n",
       "       [ 1.02283457,  0.12629972, -1.06547043],\n",
       "       [ 0.86235846, -1.00722191,  1.70385355],\n",
       "       [-1.38430699,  0.94712572, -0.45406124],\n",
       "       [-1.28802133, -0.65543934, -1.17336617],\n",
       "       [-0.83868824, -0.88996105,  0.26524369],\n",
       "       [-1.06335478, -0.7727002 , -0.59792222],\n",
       "       [ 0.86235846,  0.79077791,  0.84068764],\n",
       "       [ 0.86235846,  0.79077791,  1.55999257],\n",
       "       [ 0.79816802,  1.76795173,  1.52402732],\n",
       "       [ 1.34378677,  1.72886478,  1.91964503],\n",
       "       [-0.96706912, -0.22548286, -0.09440877],\n",
       "       [-0.19678382, -1.00722191,  0.04945221],\n",
       "       [ 1.11912023,  1.33799525,  0.62489616],\n",
       "       [ 0.7660728 , -1.00722191, -0.92160944],\n",
       "       [-0.7744978 ,  0.5562562 , -0.31020025],\n",
       "       [ 1.08702501,  1.72886478, -0.20230451],\n",
       "       [-1.12754522, -1.08539582, -1.17336617],\n",
       "       [ 1.50426288, -0.22548286, -0.23826976],\n",
       "       [ 1.60054854,  1.72886478,  0.98454862],\n",
       "       [ 1.50426288,  0.16538667, -0.56195698],\n",
       "       [ 0.9265489 ,  0.71260401, -0.20230451],\n",
       "       [ 1.66473898,  1.72886478,  1.55999257],\n",
       "       [ 0.18835883,  1.84612563,  1.66788831],\n",
       "       [ 0.95864413,  1.49434306,  1.34420109],\n",
       "       [ 1.44007244,  1.72886478,  1.12840961],\n",
       "       [ 0.54140626,  1.33799525,  1.48806207],\n",
       "       [-0.87078346, -0.46000457, -0.31020025],\n",
       "       [-0.74240258, -0.88996105, -1.20933141],\n",
       "       [-0.96706912, -0.53817848,  0.01348697],\n",
       "       [ 0.86235846,  0.82986486,  1.66788831],\n",
       "       [-0.64611691, -0.14730895, -0.3461655 ],\n",
       "       [ 0.54140626,  1.22073439,  0.22927845],\n",
       "       [ 0.47721581,  1.76795173, -0.70581796],\n",
       "       [ 0.15626361, -0.57726543, -1.17336617],\n",
       "       [-1.12754522, -1.08539582, -0.77774846],\n",
       "       [-0.58192647, -0.18639591, -0.274235  ],\n",
       "       [ 1.11912023,  0.98621268,  1.45209683],\n",
       "       [-0.32516471, -0.34274372, -0.3461655 ],\n",
       "       [-1.12754522, -1.12448277, -1.42512289],\n",
       "       [ 0.95864413, -0.88996105, -0.8137137 ],\n",
       "       [-0.9349739 , -0.88996105, -1.13740092],\n",
       "       [-0.32516471, -0.34274372, -0.3461655 ],\n",
       "       [-0.67821213, -0.88996105, -1.02950518],\n",
       "       [-0.96706912, -1.00722191, -1.28126191],\n",
       "       [-1.12754522,  0.08721276, -1.13740092],\n",
       "       [-0.32516471,  0.12629972, -0.70581796],\n",
       "       [ 0.86235846,  0.5562562 , -0.99353993],\n",
       "       [-1.12754522,  0.12629972, -0.16633927],\n",
       "       [ 1.11912023, -0.65543934, -0.52599173],\n",
       "       [-1.12754522,  0.51716924,  0.1933132 ],\n",
       "       [-1.12754522,  0.47808229, -0.77774846],\n",
       "       [-1.28802133, -0.73361324,  1.99157552],\n",
       "       [-0.80659302,  0.47808229,  0.6608614 ],\n",
       "       [-1.06335478,  0.82986486,  1.45209683],\n",
       "       [ 0.7660728 , -0.69452629, -0.52599173],\n",
       "       [ 1.08702501,  0.43899534, -0.70581796],\n",
       "       [-1.32011655, -1.04630887, -1.28126191],\n",
       "       [ 1.44007244,  0.6344301 , -1.10143567],\n",
       "       [ 1.05492979,  0.47808229, -0.09440877],\n",
       "       [ 1.27959633,  0.82986486,  0.7327919 ],\n",
       "       [-0.19678382,  0.08721276, -0.59792222],\n",
       "       [ 0.63769192,  1.02529963,  1.41613158],\n",
       "       [-1.38430699, -1.08539582, -1.49705339],\n",
       "       [ 0.25254927, -1.12448277, -0.3461655 ],\n",
       "       [ 1.05492979,  1.10347353,  0.30120894],\n",
       "       [-1.15964045, -1.12448277, -1.42512289],\n",
       "       [ 1.375882  ,  1.49434306,  1.38016633],\n",
       "       [ 1.24750111, -0.34274372,  0.01348697],\n",
       "       [ 1.44007244,  1.49434306,  1.30823584],\n",
       "       [ 1.15121545,  1.22073439, -1.06547043],\n",
       "       [ 1.27959633, -0.61635239,  0.6608614 ],\n",
       "       [ 1.34378677,  1.3770822 ,  1.99157552],\n",
       "       [ 1.11912023,  1.2989083 , -0.45406124],\n",
       "       [ 0.79816802,  1.45525611, -0.49002648],\n",
       "       [ 0.7660728 ,  1.49434306,  1.16437486],\n",
       "       [ 0.86235846,  1.10347353, -0.09440877],\n",
       "       [ 1.34378677,  1.41616915,  1.66788831],\n",
       "       [-0.83868824, -0.69452629, -1.46108814],\n",
       "       [-0.0042125 ,  0.75169096,  1.34420109],\n",
       "       [ 1.08702501,  0.43899534, -0.74178321],\n",
       "       [ 1.11912023,  1.72886478,  1.02051387],\n",
       "       [ 0.7660728 ,  1.76795173,  1.77578405],\n",
       "       [ 1.11912023,  1.02529963,  0.55296566],\n",
       "       [-1.15964045, -0.88996105,  1.52402732],\n",
       "       [ 1.11912023,  1.41616915,  0.91261813],\n",
       "       [-1.28802133, -1.28083058, -1.24529666],\n",
       "       [-0.48564081, -0.92904801,  0.51700042]])"
      ]
     },
     "execution_count": 40,
     "metadata": {},
     "output_type": "execute_result"
    }
   ],
   "source": [
    "# Normalization part\n",
    "from sklearn.preprocessing import StandardScaler\n",
    "\n",
    "new_df_for_PCA = StandardScaler().fit_transform(new_df_for_PCA.values)\n",
    "new_df_for_PCA"
   ]
  },
  {
   "cell_type": "code",
   "execution_count": 42,
   "id": "8af75759",
   "metadata": {},
   "outputs": [
    {
     "data": {
      "text/html": [
       "<div>\n",
       "<style scoped>\n",
       "    .dataframe tbody tr th:only-of-type {\n",
       "        vertical-align: middle;\n",
       "    }\n",
       "\n",
       "    .dataframe tbody tr th {\n",
       "        vertical-align: top;\n",
       "    }\n",
       "\n",
       "    .dataframe thead th {\n",
       "        text-align: right;\n",
       "    }\n",
       "</style>\n",
       "<table border=\"1\" class=\"dataframe\">\n",
       "  <thead>\n",
       "    <tr style=\"text-align: right;\">\n",
       "      <th></th>\n",
       "      <th>PCA1</th>\n",
       "      <th>PCA2</th>\n",
       "    </tr>\n",
       "  </thead>\n",
       "  <tbody>\n",
       "    <tr>\n",
       "      <th>0</th>\n",
       "      <td>-1.654579</td>\n",
       "      <td>0.128705</td>\n",
       "    </tr>\n",
       "    <tr>\n",
       "      <th>1</th>\n",
       "      <td>-0.607372</td>\n",
       "      <td>0.521497</td>\n",
       "    </tr>\n",
       "    <tr>\n",
       "      <th>2</th>\n",
       "      <td>-0.832320</td>\n",
       "      <td>-0.516729</td>\n",
       "    </tr>\n",
       "    <tr>\n",
       "      <th>3</th>\n",
       "      <td>0.557918</td>\n",
       "      <td>1.143111</td>\n",
       "    </tr>\n",
       "    <tr>\n",
       "      <th>4</th>\n",
       "      <td>-1.537114</td>\n",
       "      <td>-0.131887</td>\n",
       "    </tr>\n",
       "    <tr>\n",
       "      <th>...</th>\n",
       "      <td>...</td>\n",
       "      <td>...</td>\n",
       "    </tr>\n",
       "    <tr>\n",
       "      <th>155</th>\n",
       "      <td>1.591197</td>\n",
       "      <td>-0.272778</td>\n",
       "    </tr>\n",
       "    <tr>\n",
       "      <th>156</th>\n",
       "      <td>-0.515360</td>\n",
       "      <td>2.041128</td>\n",
       "    </tr>\n",
       "    <tr>\n",
       "      <th>157</th>\n",
       "      <td>2.014475</td>\n",
       "      <td>-0.049051</td>\n",
       "    </tr>\n",
       "    <tr>\n",
       "      <th>158</th>\n",
       "      <td>-2.192576</td>\n",
       "      <td>-0.185703</td>\n",
       "    </tr>\n",
       "    <tr>\n",
       "      <th>159</th>\n",
       "      <td>-0.627492</td>\n",
       "      <td>0.870878</td>\n",
       "    </tr>\n",
       "  </tbody>\n",
       "</table>\n",
       "<p>160 rows × 2 columns</p>\n",
       "</div>"
      ],
      "text/plain": [
       "         PCA1      PCA2\n",
       "0   -1.654579  0.128705\n",
       "1   -0.607372  0.521497\n",
       "2   -0.832320 -0.516729\n",
       "3    0.557918  1.143111\n",
       "4   -1.537114 -0.131887\n",
       "..        ...       ...\n",
       "155  1.591197 -0.272778\n",
       "156 -0.515360  2.041128\n",
       "157  2.014475 -0.049051\n",
       "158 -2.192576 -0.185703\n",
       "159 -0.627492  0.870878\n",
       "\n",
       "[160 rows x 2 columns]"
      ]
     },
     "execution_count": 42,
     "metadata": {},
     "output_type": "execute_result"
    }
   ],
   "source": [
    "# PCA uygulanan kısım\n",
    "from sklearn.decomposition import PCA\n",
    "\n",
    "pca = PCA(n_components = 2)\n",
    "\n",
    "principalComponents = pca.fit_transform(new_df_for_PCA)\n",
    "\n",
    "after_PCA_edu_data = pd.DataFrame(data = principalComponents, columns = [\"PCA1\", \"PCA2\"])\n",
    "after_PCA_edu_data"
   ]
  },
  {
   "cell_type": "code",
   "execution_count": 43,
   "id": "4d99e11c",
   "metadata": {},
   "outputs": [
    {
     "name": "stdout",
     "output_type": "stream",
     "text": [
      "Explained variation principal component: [1.94073904 0.7275356 ]\n"
     ]
    }
   ],
   "source": [
    "print('Explained variation principal component: {}'.format(pca.explained_variance_))"
   ]
  },
  {
   "cell_type": "code",
   "execution_count": 44,
   "id": "f19a2ac5",
   "metadata": {
    "scrolled": true
   },
   "outputs": [
    {
     "data": {
      "image/png": "[encoded data removed]",
      "text/plain": [
       "<Figure size 432x288 with 1 Axes>"
      ]
     },
     "metadata": {
      "needs_background": "light"
     },
     "output_type": "display_data"
    }
   ],
   "source": [
    "import seaborn as sns\n",
    "\n",
    "sns_plot = sns.scatterplot(data = after_PCA_edu_data)"
   ]
  },
  {
   "cell_type": "code",
   "execution_count": 45,
   "id": "6923f10e",
   "metadata": {},
   "outputs": [
    {
     "data": {
      "text/plain": [
       "<Figure size 432x288 with 0 Axes>"
      ]
     },
     "metadata": {},
     "output_type": "display_data"
    }
   ],
   "source": [
    "plt.savefig(\"edu_data_PCA.png\")"
   ]
  },
  {
   "cell_type": "markdown",
   "id": "ae282011",
   "metadata": {},
   "source": [
    "# Madde 6"
   ]
  },
  {
   "cell_type": "code",
   "execution_count": 46,
   "id": "acf268af",
   "metadata": {},
   "outputs": [],
   "source": [
    "X = after_PCA_edu_data.iloc[:, [0, 1]]\n",
    "y = edu_data.loc[:, \"Class\"]"
   ]
  },
  {
   "cell_type": "code",
   "execution_count": 47,
   "id": "df093241",
   "metadata": {},
   "outputs": [
    {
     "name": "stdout",
     "output_type": "stream",
     "text": [
      "16 144\n"
     ]
    }
   ],
   "source": [
    "from sklearn.model_selection import train_test_split\n",
    "X_train, X_test, y_train, y_test = train_test_split(X, y, test_size = 0.10, random_state = 42)\n",
    "print(len(X_test),len(X_train))"
   ]
  },
  {
   "cell_type": "code",
   "execution_count": 48,
   "id": "dc14538d",
   "metadata": {},
   "outputs": [],
   "source": [
    "# Splitting the dataset into the Training set and Test set\n",
    "from sklearn.preprocessing import StandardScaler\n",
    "sc = StandardScaler()\n",
    "X_train = sc.fit_transform(X_train)\n",
    "X_test = sc.transform(X_test)"
   ]
  },
  {
   "cell_type": "code",
   "execution_count": 49,
   "id": "10451b06",
   "metadata": {},
   "outputs": [
    {
     "data": {
      "text/plain": [
       "KNeighborsClassifier()"
      ]
     },
     "execution_count": 49,
     "metadata": {},
     "output_type": "execute_result"
    }
   ],
   "source": [
    "# Training the K-NN model on the Training set\n",
    "from sklearn.neighbors import KNeighborsClassifier\n",
    "classifier = KNeighborsClassifier(n_neighbors = 5, metric = 'minkowski', p = 2)\n",
    "classifier.fit(X_train, y_train)"
   ]
  },
  {
   "cell_type": "code",
   "execution_count": 50,
   "id": "e38b1382",
   "metadata": {},
   "outputs": [],
   "source": [
    "# Predicting the Test set results\n",
    "y_pred = classifier.predict(X_test)"
   ]
  },
  {
   "cell_type": "code",
   "execution_count": 51,
   "id": "ec2c7af4",
   "metadata": {},
   "outputs": [
    {
     "name": "stdout",
     "output_type": "stream",
     "text": [
      "Accuracy : 0.75\n"
     ]
    }
   ],
   "source": [
    "from sklearn.metrics import accuracy_score\n",
    "ac = accuracy_score(y_test,y_pred)\n",
    "\n",
    "print(f\"Accuracy : {ac}\")"
   ]
  },
  {
   "cell_type": "code",
   "execution_count": null,
   "id": "a8840e40",
   "metadata": {},
   "outputs": [],
   "source": []
  }
 ],
 "metadata": {
  "kernelspec": {
   "display_name": "Python 3 (ipykernel)",
   "language": "python",
   "name": "python3"
  },
  "language_info": {
   "codemirror_mode": {
    "name": "ipython",
    "version": 3
   },
   "file_extension": ".py",
   "mimetype": "text/x-python",
   "name": "python",
   "nbconvert_exporter": "python",
   "pygments_lexer": "ipython3",
   "version": "3.8.8"
  }
 },
 "nbformat": 4,
 "nbformat_minor": 5
}
